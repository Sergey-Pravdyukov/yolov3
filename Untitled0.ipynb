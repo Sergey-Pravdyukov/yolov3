{
  "nbformat": 4,
  "nbformat_minor": 0,
  "metadata": {
    "colab": {
      "name": "Untitled0.ipynb",
      "provenance": [],
      "collapsed_sections": [],
      "authorship_tag": "ABX9TyNflvwz58PL+I8SqXcWTnBN",
      "include_colab_link": true
    },
    "kernelspec": {
      "name": "python3",
      "display_name": "Python 3"
    },
    "accelerator": "GPU"
  },
  "cells": [
    {
      "cell_type": "markdown",
      "metadata": {
        "id": "view-in-github",
        "colab_type": "text"
      },
      "source": [
        "<a href=\"https://colab.research.google.com/github/Sergey-Pravdyukov/yolov3/blob/master/Untitled0.ipynb\" target=\"_parent\"><img src=\"https://colab.research.google.com/assets/colab-badge.svg\" alt=\"Open In Colab\"/></a>"
      ]
    },
    {
      "cell_type": "code",
      "metadata": {
        "id": "nvHowUZz2h_V",
        "colab_type": "code",
        "outputId": "82ed417d-5ec1-4d68-c639-7eedc4b3c8b8",
        "colab": {
          "base_uri": "https://localhost:8080/",
          "height": 139
        }
      },
      "source": [
        "! rm -rf /content/demo_diploma/\n",
        "%cd /content\n",
        "! git clone https://github.com/Sergey-Pravdyukov/demo_diploma.git -b colab_detector   "
      ],
      "execution_count": 1,
      "outputs": [
        {
          "output_type": "stream",
          "text": [
            "/content\n",
            "Cloning into 'demo_diploma'...\n",
            "remote: Enumerating objects: 40986, done.\u001b[K\n",
            "remote: Total 40986 (delta 0), reused 0 (delta 0), pack-reused 40986\u001b[K\n",
            "Receiving objects: 100% (40986/40986), 1.31 GiB | 15.27 MiB/s, done.\n",
            "Resolving deltas: 100% (7568/7568), done.\n",
            "Checking out files: 100% (41289/41289), done.\n"
          ],
          "name": "stdout"
        }
      ]
    },
    {
      "cell_type": "code",
      "metadata": {
        "id": "cv5q9UoT2uvr",
        "colab_type": "code",
        "outputId": "20c4092c-8694-43dd-ac0f-d3dd17871b79",
        "colab": {
          "base_uri": "https://localhost:8080/",
          "height": 156
        }
      },
      "source": [
        "%cd /content/\n",
        "! rm -rf /content/yolov3\n",
        "! git clone https://github.com/Sergey-Pravdyukov/yolov3.git"
      ],
      "execution_count": 7,
      "outputs": [
        {
          "output_type": "stream",
          "text": [
            "/content\n",
            "Cloning into 'yolov3'...\n",
            "remote: Enumerating objects: 4, done.\u001b[K\n",
            "remote: Counting objects: 100% (4/4), done.\u001b[K\n",
            "remote: Compressing objects: 100% (4/4), done.\u001b[K\n",
            "remote: Total 8683 (delta 0), reused 1 (delta 0), pack-reused 8679\u001b[K\n",
            "Receiving objects: 100% (8683/8683), 9.66 MiB | 5.25 MiB/s, done.\n",
            "Resolving deltas: 100% (5961/5961), done.\n"
          ],
          "name": "stdout"
        }
      ]
    },
    {
      "cell_type": "code",
      "metadata": {
        "id": "HYUcXeKz2xPv",
        "colab_type": "code",
        "outputId": "4c02a795-732c-48be-902f-3096575b070f",
        "colab": {
          "base_uri": "https://localhost:8080/",
          "height": 642
        }
      },
      "source": [
        "%cd /content/yolov3/\n",
        "!ls -al\n",
        "!python3 ./download_weigths.py"
      ],
      "execution_count": 8,
      "outputs": [
        {
          "output_type": "stream",
          "text": [
            "/content/yolov3\n",
            "total 1028\n",
            "drwxr-xr-x 8 root root   4096 Apr 21 15:42 .\n",
            "drwxr-xr-x 1 root root   4096 Apr 21 15:41 ..\n",
            "drwxr-xr-x 2 root root   4096 Apr 21 15:42 cfg\n",
            "drwxr-xr-x 4 root root   4096 Apr 21 15:42 data\n",
            "-rw-r--r-- 1 root root   7674 Apr 21 15:42 detect.py\n",
            "-rw-r--r-- 1 root root   2654 Apr 21 15:42 Dockerfile\n",
            "-rw-r--r-- 1 root root   3666 Apr 21 15:42 .dockerignore\n",
            "-rw-r--r-- 1 root root    145 Apr 21 15:42 download_weigths.py\n",
            "-rw-r--r-- 1 root root 880371 Apr 21 15:42 examples.ipynb\n",
            "drwxr-xr-x 8 root root   4096 Apr 21 15:42 .git\n",
            "drwxr-xr-x 4 root root   4096 Apr 21 15:42 .github\n",
            "-rwxr-xr-x 1 root root   3700 Apr 21 15:42 .gitignore\n",
            "-rw-r--r-- 1 root root  35126 Apr 21 15:42 LICENSE\n",
            "-rwxr-xr-x 1 root root  20066 Apr 21 15:42 models.py\n",
            "-rwxr-xr-x 1 root root   9782 Apr 21 15:42 README.md\n",
            "-rwxr-xr-x 1 root root    963 Apr 21 15:42 requirements.txt\n",
            "-rw-r--r-- 1 root root  13068 Apr 21 15:42 test.py\n",
            "-rw-r--r-- 1 root root  22525 Apr 21 15:42 train.py\n",
            "drwxr-xr-x 2 root root   4096 Apr 21 15:42 utils\n",
            "drwxr-xr-x 2 root root   4096 Apr 21 15:42 weights\n",
            "  % Total    % Received % Xferd  Average Speed   Time    Time     Time  Current\n",
            "                                 Dload  Upload   Total   Spent    Left  Speed\n",
            "100   408    0   408    0     0    149      0 --:--:--  0:00:02 --:--:--   149\n",
            "  0     0    0     0    0     0      0      0 --:--:--  0:00:02 --:--:--     0\n",
            "  0     0    0     0    0     0      0      0 --:--:--  0:00:03 --:--:--     0\n",
            "100  236M    0  236M    0     0  31.1M      0 --:--:--  0:00:07 --:--:-- 80.0M\n",
            "Downloading https://drive.google.com/uc?export=download&id=1SHNFyoe5Ni8DajDNEqgB2oVKBb_NoEad as weights/yolov3.pt... Done (8.0s)\n",
            "  % Total    % Received % Xferd  Average Speed   Time    Time     Time  Current\n",
            "                                 Dload  Upload   Total   Spent    Left  Speed\n",
            "100   408    0   408    0     0   1172      0 --:--:-- --:--:-- --:--:--  1169\n",
            "  0     0    0     0    0     0      0      0 --:--:-- --:--:-- --:--:--     0\n",
            "  0     0    0     0    0     0      0      0 --:--:--  0:00:01 --:--:--     0\n",
            "100  240M    0  240M    0     0  30.2M      0 --:--:--  0:00:07 --:--:-- 48.7M\n",
            "Downloading https://drive.google.com/uc?export=download&id=1f6Ovy3BSq2wYq4UfvFUpxJFNDFfrIDcR as weights/yolov3-spp.pt... Done (8.3s)\n"
          ],
          "name": "stdout"
        }
      ]
    },
    {
      "cell_type": "code",
      "metadata": {
        "id": "ygu6xvt0aD4E",
        "colab_type": "code",
        "colab": {
          "base_uri": "https://localhost:8080/",
          "height": 104
        },
        "outputId": "921eee0d-433b-4a95-fd7e-ac1832821ff2"
      },
      "source": [
        "%cd /content/yolov3/\n",
        "! git status"
      ],
      "execution_count": 9,
      "outputs": [
        {
          "output_type": "stream",
          "text": [
            "/content/yolov3\n",
            "On branch master\n",
            "Your branch is up to date with 'origin/master'.\n",
            "\n",
            "nothing to commit, working tree clean\n"
          ],
          "name": "stdout"
        }
      ]
    },
    {
      "cell_type": "code",
      "metadata": {
        "id": "I0rPYQeU21C9",
        "colab_type": "code",
        "outputId": "2c49ffba-1eeb-4623-a4de-3612531d07bc",
        "colab": {
          "base_uri": "https://localhost:8080/",
          "height": 1000
        }
      },
      "source": [
        "% cd /content/yolov3/\n",
        "! python3 /content/yolov3/train.py --cfg yolov3-spp.cfg --data /content/demo_diploma/config/rtsd.data --epochs 20 --batch-size 16"
      ],
      "execution_count": 10,
      "outputs": [
        {
          "output_type": "stream",
          "text": [
            "/content/yolov3\n",
            "Namespace(accumulate=4, adam=False, batch_size=16, bucket='', cache_images=False, cfg='yolov3-spp.cfg', data='/content/demo_diploma/config/rtsd.data', device='', epochs=20, evolve=False, img_size=[416], multi_scale=False, name='', nosave=False, notest=False, rect=False, resume=False, single_cls=False, weights='weights/yolov3-spp-ultralytics.pt')\n",
            "Using CUDA device0 _CudaDeviceProperties(name='Tesla K80', total_memory=11441MB)\n",
            "\n",
            "2020-04-21 15:45:34.878080: I tensorflow/stream_executor/platform/default/dso_loader.cc:44] Successfully opened dynamic library libcudart.so.10.1\n",
            "Model Summary: 225 layers, 6.29987e+07 parameters, 6.29987e+07 gradients\n",
            "  % Total    % Received % Xferd  Average Speed   Time    Time     Time  Current\n",
            "                                 Dload  Upload   Total   Spent    Left  Speed\n",
            "100   408    0   408    0     0    801      0 --:--:-- --:--:-- --:--:--   801\n",
            "  0     0    0     0    0     0      0      0 --:--:-- --:--:-- --:--:--     0\n",
            "  0     0    0     0    0     0      0      0 --:--:-- --:--:-- --:--:--     0\n",
            "100  240M    0  240M    0     0  56.3M      0 --:--:--  0:00:04 --:--:-- 91.2M\n",
            "Downloading https://drive.google.com/uc?export=download&id=1UcR-zVoMs7DH5dj3N1bswkiQTA4dmKF4 as weights/yolov3-spp-ultralytics.pt... Done (4.9s)\n",
            "opt.single_cls False\n",
            "path: /content/demo_diploma/RTSD-d2/detection/rtsd-d2-frames/images/train.txt\n",
            "labels_home: ./content/demo_diploma/RTSD-d2/detection/rtsd-d2-frames\n",
            "Caching labels (3995 found, 0 missing, 791 empty, 3995 duplicate, for 4786 images): 100% 4786/4786 [00:00<00:00, 5955.89it/s]\n",
            "path: /content/demo_diploma/RTSD-d2/detection/rtsd-d2-frames/images/val.txt\n",
            "labels_home: ./content/demo_diploma/RTSD-d2/detection/rtsd-d2-frames\n",
            "Reading image shapes: 100% 1596/1596 [00:00<00:00, 8843.16it/s]\n",
            "Caching labels (1554 found, 0 missing, 42 empty, 1554 duplicate, for 1596 images): 100% 1596/1596 [00:00<00:00, 5576.62it/s]\n",
            "Using 2 dataloader workers\n",
            "Starting training for 20 epochs...\n",
            "\n",
            "     Epoch   gpu_mem      GIoU       obj       cls     total   targets  img_size\n",
            "      0/19     8.49G     0.834     0.152      3.26      4.25         8       416: 100% 300/300 [15:08<00:00,  3.03s/it]\n",
            "               Class    Images   Targets         P         R   mAP@0.5        F1: 100% 100/100 [01:05<00:00,  1.53it/s]\n",
            "                 all   1.6e+03     4e+03    0.0249   0.00749   0.00691   0.00617\n",
            "\n",
            "     Epoch   gpu_mem      GIoU       obj       cls     total   targets  img_size\n",
            "      1/19     8.49G     0.859    0.0578      2.28       3.2         4       416: 100% 300/300 [15:04<00:00,  3.02s/it]\n",
            "               Class    Images   Targets         P         R   mAP@0.5        F1: 100% 100/100 [01:03<00:00,  1.58it/s]\n",
            "                 all   1.6e+03     4e+03    0.0435     0.026    0.0196    0.0234\n",
            "\n",
            "     Epoch   gpu_mem      GIoU       obj       cls     total   targets  img_size\n",
            "      2/19     8.49G     0.953    0.0418      1.91       2.9         6       416: 100% 300/300 [15:04<00:00,  3.02s/it]\n",
            "               Class    Images   Targets         P         R   mAP@0.5        F1: 100% 100/100 [01:02<00:00,  1.60it/s]\n",
            "                 all   1.6e+03     4e+03    0.0959    0.0318    0.0285     0.037\n",
            "\n",
            "     Epoch   gpu_mem      GIoU       obj       cls     total   targets  img_size\n",
            "  0% 0/300 [00:00<?, ?it/s]\n",
            "Model Bias Summary:    layer        regression        objectness    classification\n",
            "                          89      -0.14+/-0.33      -3.50+/-1.06      -6.58+/-0.89 \n",
            "                         101      -0.05+/-0.23      -3.23+/-0.13      -6.30+/-0.68 \n",
            "                         113       0.04+/-0.26      -3.78+/-0.38      -5.98+/-0.71 \n",
            "      3/19     8.49G     0.901    0.0372      1.69      2.63         6       416: 100% 300/300 [15:01<00:00,  3.01s/it]\n",
            "               Class    Images   Targets         P         R   mAP@0.5        F1: 100% 100/100 [01:02<00:00,  1.61it/s]\n",
            "                 all   1.6e+03     4e+03    0.0867    0.0497    0.0362     0.051\n",
            "\n",
            "     Epoch   gpu_mem      GIoU       obj       cls     total   targets  img_size\n",
            "      4/19     8.49G     0.839    0.0347      1.55      2.43         4       416: 100% 300/300 [15:00<00:00,  3.00s/it]\n",
            "               Class    Images   Targets         P         R   mAP@0.5        F1: 100% 100/100 [01:03<00:00,  1.59it/s]\n",
            "                 all   1.6e+03     4e+03    0.0468    0.0698    0.0412    0.0508\n",
            "\n",
            "     Epoch   gpu_mem      GIoU       obj       cls     total   targets  img_size\n",
            "      5/19     8.49G     0.748     0.032      1.38      2.16         6       416: 100% 300/300 [15:00<00:00,  3.00s/it]\n",
            "               Class    Images   Targets         P         R   mAP@0.5        F1: 100% 100/100 [01:02<00:00,  1.59it/s]\n",
            "                 all   1.6e+03     4e+03    0.0704    0.0683    0.0489    0.0661\n",
            "\n",
            "     Epoch   gpu_mem      GIoU       obj       cls     total   targets  img_size\n",
            "      6/19     8.49G     0.764    0.0306      1.33      2.12         4       416: 100% 300/300 [15:01<00:00,  3.00s/it]\n",
            "               Class    Images   Targets         P         R   mAP@0.5        F1: 100% 100/100 [01:02<00:00,  1.59it/s]\n",
            "                 all   1.6e+03     4e+03       0.1    0.0761    0.0582    0.0759\n",
            "\n",
            "     Epoch   gpu_mem      GIoU       obj       cls     total   targets  img_size\n",
            "      7/19     8.49G     0.795    0.0295      1.28       2.1         8       416: 100% 300/300 [15:05<00:00,  3.02s/it]\n",
            "               Class    Images   Targets         P         R   mAP@0.5        F1: 100% 100/100 [01:02<00:00,  1.59it/s]\n",
            "                 all   1.6e+03     4e+03     0.119    0.0959    0.0671    0.0839\n",
            "\n",
            "     Epoch   gpu_mem      GIoU       obj       cls     total   targets  img_size\n",
            "      8/19     8.49G     0.681    0.0304      1.23      1.94        12       416: 100% 300/300 [15:04<00:00,  3.02s/it]\n",
            "               Class    Images   Targets         P         R   mAP@0.5        F1: 100% 100/100 [01:02<00:00,  1.59it/s]\n",
            "                 all   1.6e+03     4e+03     0.109    0.0796    0.0641    0.0797\n",
            "\n",
            "     Epoch   gpu_mem      GIoU       obj       cls     total   targets  img_size\n",
            "      9/19     8.49G      0.68    0.0289      1.17      1.88         2       416: 100% 300/300 [15:01<00:00,  3.00s/it]\n",
            "               Class    Images   Targets         P         R   mAP@0.5        F1: 100% 100/100 [01:02<00:00,  1.60it/s]\n",
            "                 all   1.6e+03     4e+03     0.107    0.0955    0.0695    0.0878\n",
            "\n",
            "     Epoch   gpu_mem      GIoU       obj       cls     total   targets  img_size\n",
            "     10/19     8.49G      0.66    0.0278      1.09      1.78         4       416: 100% 300/300 [15:01<00:00,  3.00s/it]\n",
            "               Class    Images   Targets         P         R   mAP@0.5        F1: 100% 100/100 [01:02<00:00,  1.59it/s]\n",
            "                 all   1.6e+03     4e+03     0.103     0.107    0.0739     0.081\n",
            "\n",
            "     Epoch   gpu_mem      GIoU       obj       cls     total   targets  img_size\n",
            "     11/19     8.49G     0.631    0.0271     0.963      1.62         8       416: 100% 300/300 [15:01<00:00,  3.00s/it]\n",
            "               Class    Images   Targets         P         R   mAP@0.5        F1: 100% 100/100 [01:02<00:00,  1.60it/s]\n",
            "                 all   1.6e+03     4e+03     0.134     0.114    0.0816     0.103\n",
            "\n",
            "     Epoch   gpu_mem      GIoU       obj       cls     total   targets  img_size\n",
            "     12/19     8.49G     0.579    0.0256     0.905      1.51        18       416: 100% 300/300 [15:00<00:00,  3.00s/it]\n",
            "               Class    Images   Targets         P         R   mAP@0.5        F1: 100% 100/100 [01:03<00:00,  1.59it/s]\n",
            "                 all   1.6e+03     4e+03     0.124     0.119    0.0849     0.101\n",
            "\n",
            "     Epoch   gpu_mem      GIoU       obj       cls     total   targets  img_size\n",
            "     13/19     8.49G     0.564    0.0261     0.932      1.52        10       416: 100% 300/300 [15:01<00:00,  3.00s/it]\n",
            "               Class    Images   Targets         P         R   mAP@0.5        F1: 100% 100/100 [01:02<00:00,  1.59it/s]\n",
            "                 all   1.6e+03     4e+03     0.131     0.133    0.0872     0.112\n",
            "\n",
            "     Epoch   gpu_mem      GIoU       obj       cls     total   targets  img_size\n",
            "     14/19     8.49G      0.57    0.0243     0.831      1.43         6       416: 100% 300/300 [15:00<00:00,  3.00s/it]\n",
            "               Class    Images   Targets         P         R   mAP@0.5        F1: 100% 100/100 [01:02<00:00,  1.59it/s]\n",
            "                 all   1.6e+03     4e+03     0.164      0.13     0.088     0.114\n",
            "\n",
            "     Epoch   gpu_mem      GIoU       obj       cls     total   targets  img_size\n",
            "     15/19     8.49G     0.571    0.0244     0.805       1.4         6       416: 100% 300/300 [15:00<00:00,  3.00s/it]\n",
            "               Class    Images   Targets         P         R   mAP@0.5        F1: 100% 100/100 [01:02<00:00,  1.59it/s]\n",
            "                 all   1.6e+03     4e+03     0.165     0.126    0.0899     0.116\n",
            "\n",
            "     Epoch   gpu_mem      GIoU       obj       cls     total   targets  img_size\n",
            "     16/19     8.49G     0.563    0.0249      0.76      1.35         6       416: 100% 300/300 [15:01<00:00,  3.00s/it]\n",
            "               Class    Images   Targets         P         R   mAP@0.5        F1: 100% 100/100 [01:03<00:00,  1.58it/s]\n",
            "                 all   1.6e+03     4e+03      0.15     0.132    0.0892     0.112\n",
            "\n",
            "     Epoch   gpu_mem      GIoU       obj       cls     total   targets  img_size\n",
            "     17/19     8.49G     0.492    0.0233     0.682       1.2         8       416: 100% 300/300 [15:00<00:00,  3.00s/it]\n",
            "               Class    Images   Targets         P         R   mAP@0.5        F1: 100% 100/100 [01:03<00:00,  1.59it/s]\n",
            "                 all   1.6e+03     4e+03     0.155     0.136    0.0913      0.12\n",
            "\n",
            "     Epoch   gpu_mem      GIoU       obj       cls     total   targets  img_size\n",
            "     18/19     8.49G     0.492    0.0231     0.657      1.17         2       416: 100% 300/300 [15:00<00:00,  3.00s/it]\n",
            "               Class    Images   Targets         P         R   mAP@0.5        F1: 100% 100/100 [01:02<00:00,  1.59it/s]\n",
            "                 all   1.6e+03     4e+03     0.155     0.142    0.0928     0.119\n",
            "\n",
            "     Epoch   gpu_mem      GIoU       obj       cls     total   targets  img_size\n",
            "     19/19     8.49G     0.494    0.0229     0.627      1.14         8       416: 100% 300/300 [15:00<00:00,  3.00s/it]\n",
            "               Class    Images   Targets         P         R   mAP@0.5        F1: 100% 100/100 [01:02<00:00,  1.60it/s]\n",
            "                 all   1.6e+03     4e+03     0.145     0.135    0.0901     0.116\n",
            "20 epochs completed in 5.381 hours.\n",
            "\n"
          ],
          "name": "stdout"
        }
      ]
    },
    {
      "cell_type": "code",
      "metadata": {
        "id": "VnOWcgbpHW44",
        "colab_type": "code",
        "colab": {
          "base_uri": "https://localhost:8080/",
          "height": 456
        },
        "outputId": "c0f239f6-d16e-406c-c205-fa2bb47aab3c"
      },
      "source": [
        "from utils import utils; utils.plot_results()"
      ],
      "execution_count": 5,
      "outputs": [
        {
          "output_type": "stream",
          "text": [
            "No handles with labels found to put in legend.\n"
          ],
          "name": "stderr"
        },
        {
          "output_type": "display_data",
          "data": {
            "image/png": "[encoded data removed]",
            "text/plain": [
              "<Figure size 864x432 with 10 Axes>"
            ]
          },
          "metadata": {
            "tags": [],
            "needs_background": "light"
          }
        }
      ]
    },
    {
      "cell_type": "code",
      "metadata": {
        "id": "fS9GHJSTeb8P",
        "colab_type": "code",
        "outputId": "15e4fdbb-ee0e-4bd5-e0d8-2b22b87b2e0e",
        "colab": {
          "base_uri": "https://localhost:8080/",
          "height": 367
        }
      },
      "source": [
        "% cd /content/yolov3/\n",
        "! rm -rf /content/yolov3/data/samples/*\n",
        "!cp /content/demo_diploma/RTSD-d3/detection/rtsd-d3-frames/images/val/* /content/yolov3/data/samples/\n",
        "# ! ls -al /content/yolov3/weights/\n",
        "! python3 test.py --cfg yolov3-spp.cfg --weights /content/yolov3/weights/last.pt --img 640 --augment --data /content/demo_diploma/config/rtsd.data"
      ],
      "execution_count": 6,
      "outputs": [
        {
          "output_type": "stream",
          "text": [
            "/content/yolov3\n",
            "Namespace(augment=True, batch_size=16, cfg='yolov3-spp.cfg', conf_thres=0.001, data='/content/demo_diploma/config/rtsd.data', device='', img_size=640, iou_thres=0.6, save_json=False, single_cls=False, task='test', weights='/content/yolov3/weights/last.pt')\n",
            "Using CUDA device0 _CudaDeviceProperties(name='Tesla K80', total_memory=11441MB)\n",
            "\n",
            "Model Summary: 225 layers, 6.29987e+07 parameters, 6.29987e+07 gradients\n",
            "Downloading https://pjreddie.com/media/files/last.pt\n",
            "  % Total    % Received % Xferd  Average Speed   Time    Time     Time  Current\n",
            "                                 Dload  Upload   Total   Spent    Left  Speed\n",
            "  0     0    0     0    0     0      0      0 --:--:--  0:00:01 --:--:--     0\n",
            "curl: (22) The requested URL returned error: 404 Not Found\n",
            "rm: cannot remove '/content/yolov3/weights/last.pt': No such file or directory\n",
            "Traceback (most recent call last):\n",
            "  File \"test.py\", line 269, in <module>\n",
            "    opt.augment)\n",
            "  File \"test.py\", line 36, in test\n",
            "    attempt_download(weights)\n",
            "  File \"/content/yolov3/models.py\", line 432, in attempt_download\n",
            "    raise Exception(msg)\n",
            "Exception: /content/yolov3/weights/last.pt missing, try downloading from https://drive.google.com/open?id=1LezFG5g3BCW6iYaV89B2i64cqEUZD7e0\n"
          ],
          "name": "stdout"
        }
      ]
    }
  ]
}